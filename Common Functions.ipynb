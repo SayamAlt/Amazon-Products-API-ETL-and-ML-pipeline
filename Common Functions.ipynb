{
 "cells": [
  {
   "cell_type": "code",
   "execution_count": 0,
   "metadata": {
    "application/vnd.databricks.v1+cell": {
     "cellMetadata": {
      "byteLimit": 2048000,
      "rowLimit": 10000
     },
     "inputWidgets": {},
     "nuid": "9d0311c4-55dd-4ee7-bf82-7b71476ee9ac",
     "showTitle": false,
     "tableResultSettingsMap": {},
     "title": ""
    }
   },
   "outputs": [],
   "source": [
    "from pyspark.sql.functions import col, when, mean, median\n",
    "from pyspark.ml.feature import StandardScaler, VectorAssembler\n",
    "from pyspark.ml.pipeline import Pipeline"
   ]
  },
  {
   "cell_type": "code",
   "execution_count": 0,
   "metadata": {
    "application/vnd.databricks.v1+cell": {
     "cellMetadata": {
      "byteLimit": 2048000,
      "rowLimit": 10000
     },
     "inputWidgets": {},
     "nuid": "2919f2af-d8c0-428e-a38e-84954645dc38",
     "showTitle": false,
     "tableResultSettingsMap": {},
     "title": ""
    }
   },
   "outputs": [],
   "source": [
    "def fill_missing_with_mean(data,col_name):\n",
    "    mean_val = data.select(round(mean(col_name)).alias('mean_val')).collect()[0].mean_val\n",
    "    data = data.withColumn(col_name,when(col(col_name).isNull(), mean_val).otherwise(col(col_name)))\n",
    "    return data"
   ]
  },
  {
   "cell_type": "code",
   "execution_count": 0,
   "metadata": {
    "application/vnd.databricks.v1+cell": {
     "cellMetadata": {
      "byteLimit": 2048000,
      "rowLimit": 10000
     },
     "inputWidgets": {},
     "nuid": "9b2bec62-b86f-4398-8643-ef7258376d4f",
     "showTitle": false,
     "tableResultSettingsMap": {},
     "title": ""
    }
   },
   "outputs": [],
   "source": [
    "def fill_missing_with_median(data,col_name):\n",
    "    mean_val = data.select(round(median(col_name)).alias('median_val')).collect()[0].median_val\n",
    "    data = data.withColumn(col_name,when(col(col_name).isNull(), mean_val).otherwise(col(col_name)))\n",
    "    return data"
   ]
  },
  {
   "cell_type": "code",
   "execution_count": 0,
   "metadata": {
    "application/vnd.databricks.v1+cell": {
     "cellMetadata": {
      "byteLimit": 2048000,
      "rowLimit": 10000
     },
     "inputWidgets": {},
     "nuid": "bc0fb21e-a88c-4719-9bfd-2bd97efa3ec2",
     "showTitle": false,
     "tableResultSettingsMap": {},
     "title": ""
    }
   },
   "outputs": [],
   "source": [
    "def create_end_to_end_pipeline(model,labelCol):\n",
    "    assembler = VectorAssembler(inputCols=['is_best_seller',\n",
    "    'is_prime',\n",
    "    'offers_count',\n",
    "    'num_ratings',\n",
    "    'original_price',\n",
    "    'price',\n",
    "    'sales_volume',\n",
    "    'discount',\n",
    "    'profit',\n",
    "    'discount_percentage',\n",
    "    'profit_percentage',\n",
    "    'product_title_Hanes',\n",
    "    'product_title_adidas',\n",
    "    'product_title_Amazon_Essentials',\n",
    "    'product_title_Dokotoo',\n",
    "    'product_title_Carhartt',\n",
    "    'product_title_SOJOS',\n",
    "    'product_title_AUTOMET',\n",
    "    'product_title_Fruit_of_the_Loom',\n",
    "    'product_title_Skechers',\n",
    "    'product_title_Trendy_Queen',\n",
    "    'product_title_Wrangler_Authentics',\n",
    "    \"product_title_Levi's\",\n",
    "    'product_title_PRETTYGARDEN',\n",
    "    'product_title_Gildan',\n",
    "    'product_title_Lee',\n",
    "    'product_title_others'],outputCol='features',handleInvalid='skip')\n",
    "    scaler = StandardScaler(inputCol='features',outputCol='scaledFeatures')\n",
    "    regressor = model.setFeaturesCol('scaledFeatures').setLabelCol(labelCol)\n",
    "\n",
    "    pipeline = Pipeline(stages=[\n",
    "        assembler,scaler,regressor\n",
    "    ])\n",
    "    return pipeline"
   ]
  }
 ],
 "metadata": {
  "application/vnd.databricks.v1+notebook": {
   "dashboards": [],
   "environmentMetadata": {
    "base_environment": "",
    "client": "1"
   },
   "language": "python",
   "notebookMetadata": {
    "pythonIndentUnit": 4
   },
   "notebookName": "Common Functions",
   "widgets": {}
  },
  "language_info": {
   "name": "python"
  }
 },
 "nbformat": 4,
 "nbformat_minor": 0
}
{
  "cells": [
    {
      "cell_type": "code",
      "source": [
        "%pip install pyspark"
      ],
      "outputs": [
        {
          "output_type": "stream",
          "name": "stdout",
          "text": "Requirement already satisfied: pyspark in /anaconda/envs/azureml_py310_sdkv2/lib/python3.10/site-packages (3.5.3)\nRequirement already satisfied: py4j==0.10.9.7 in /anaconda/envs/azureml_py310_sdkv2/lib/python3.10/site-packages (from pyspark) (0.10.9.7)\nNote: you may need to restart the kernel to use updated packages.\n"
        }
      ],
      "execution_count": 1,
      "metadata": {
        "jupyter": {
          "source_hidden": false,
          "outputs_hidden": false
        },
        "nteract": {
          "transient": {
            "deleting": false
          }
        }
      }
    },
    {
      "cell_type": "code",
      "source": [
        "from azureml.core import Workspace, Model\n",
        "from azure.storage.blob import BlobServiceClient\n",
        "from azureml.core.webservice import AciWebservice\n",
        "from azureml.core.model import InferenceConfig\n",
        "import joblib, os\n",
        "from pyspark.sql import SparkSession\n",
        "from pyspark.ml.pipeline import PipelineModel\n",
        "from flask import Flask, request, jsonify"
      ],
      "outputs": [],
      "execution_count": 2,
      "metadata": {
        "gather": {
          "logged": 1732580007564
        }
      }
    },
    {
      "cell_type": "code",
      "source": [
        "# Initialize Spark session\n",
        "spark = SparkSession.builder.appName('ml_model_deployment').getOrCreate()\n",
        "spark"
      ],
      "outputs": [
        {
          "output_type": "stream",
          "name": "stderr",
          "text": "24/11/26 00:13:30 WARN Utils: Your hostname, n016064171 resolves to a loopback address: 127.0.0.1; using 10.0.0.4 instead (on interface eth0)\n24/11/26 00:13:30 WARN Utils: Set SPARK_LOCAL_IP if you need to bind to another address\nSetting default log level to \"WARN\".\nTo adjust logging level use sc.setLogLevel(newLevel). For SparkR, use setLogLevel(newLevel).\n24/11/26 00:13:31 WARN NativeCodeLoader: Unable to load native-hadoop library for your platform... using builtin-java classes where applicable\n"
        },
        {
          "output_type": "execute_result",
          "execution_count": 3,
          "data": {
            "text/plain": "<pyspark.sql.session.SparkSession at 0x7fefd9361900>",
            "text/html": "\n            <div>\n                <p><b>SparkSession - in-memory</b></p>\n                \n        <div>\n            <p><b>SparkContext</b></p>\n\n            <p><a href=\"http://n016064171.internal.cloudapp.net:4040\">Spark UI</a></p>\n\n            <dl>\n              <dt>Version</dt>\n                <dd><code>v3.5.3</code></dd>\n              <dt>Master</dt>\n                <dd><code>local[*]</code></dd>\n              <dt>AppName</dt>\n                <dd><code>ml_model_deployment</code></dd>\n            </dl>\n        </div>\n        \n            </div>\n        "
          },
          "metadata": {}
        }
      ],
      "execution_count": 3,
      "metadata": {
        "jupyter": {
          "source_hidden": false,
          "outputs_hidden": false
        },
        "nteract": {
          "transient": {
            "deleting": false
          }
        },
        "gather": {
          "logged": 1732580013500
        }
      }
    },
    {
      "cell_type": "code",
      "source": [
        "model = PipelineModel.load('ml_pipeline')\n",
        "model"
      ],
      "outputs": [
        {
          "output_type": "stream",
          "name": "stderr",
          "text": "                                                                                \r"
        },
        {
          "output_type": "execute_result",
          "execution_count": 4,
          "data": {
            "text/plain": "PipelineModel_22a4ea7120e3"
          },
          "metadata": {}
        }
      ],
      "execution_count": 4,
      "metadata": {
        "jupyter": {
          "source_hidden": false,
          "outputs_hidden": false
        },
        "nteract": {
          "transient": {
            "deleting": false
          }
        },
        "gather": {
          "logged": 1732580020966
        }
      }
    },
    {
      "cell_type": "code",
      "source": [
        "ws = Workspace.from_config()\n",
        "ws"
      ],
      "outputs": [
        {
          "output_type": "execute_result",
          "execution_count": 5,
          "data": {
            "text/plain": "Workspace.create(name='amazon-products-etl-ml-ws', subscription_id='a7e5bb0a-4c2d-4770-8ba2-5adf2a916d3a', resource_group='etl-and-ml-project-ws')"
          },
          "metadata": {}
        }
      ],
      "execution_count": 5,
      "metadata": {
        "jupyter": {
          "source_hidden": false,
          "outputs_hidden": false
        },
        "nteract": {
          "transient": {
            "deleting": false
          }
        },
        "gather": {
          "logged": 1732580021581
        }
      }
    },
    {
      "cell_type": "code",
      "source": [
        "# model = Model.register(workspace=ws,model_name='amazon_products_price_predictor',model_path='amazon_products_price_predictor.pkl/')\n",
        "# model"
      ],
      "outputs": [],
      "execution_count": 6,
      "metadata": {
        "jupyter": {
          "source_hidden": false,
          "outputs_hidden": false
        },
        "nteract": {
          "transient": {
            "deleting": false
          }
        },
        "gather": {
          "logged": 1732580021841
        }
      }
    },
    {
      "cell_type": "code",
      "source": [
        "# key_vault = ws.get_default_keyvault()\n",
        "# key_vault"
      ],
      "outputs": [],
      "execution_count": 7,
      "metadata": {
        "jupyter": {
          "source_hidden": false,
          "outputs_hidden": false
        },
        "nteract": {
          "transient": {
            "deleting": false
          }
        },
        "gather": {
          "logged": 1732580022093
        }
      }
    },
    {
      "cell_type": "code",
      "source": [
        "# secret_name = \"amazonproducts-sa-access-key\"\n",
        "# secret_value = key_vault.get_secret(secret_name)"
      ],
      "outputs": [],
      "execution_count": 8,
      "metadata": {
        "jupyter": {
          "source_hidden": false,
          "outputs_hidden": false
        },
        "nteract": {
          "transient": {
            "deleting": false
          }
        },
        "gather": {
          "logged": 1732580022370
        }
      }
    },
    {
      "cell_type": "code",
      "source": [
        "# os.environ['STORAGE_ACCOUNT_ACCESS_KEY'] = secret_value"
      ],
      "outputs": [],
      "execution_count": 9,
      "metadata": {
        "jupyter": {
          "source_hidden": false,
          "outputs_hidden": false
        },
        "nteract": {
          "transient": {
            "deleting": false
          }
        },
        "gather": {
          "logged": 1732580022627
        }
      }
    },
    {
      "cell_type": "code",
      "source": [
        "# storage_account_name = 'amazonproductsdl'\n",
        "# storage_account_access_key = secret_value\n",
        "# container_name = 'model'\n",
        "# blob_name = 'amazon_products_price_predictor.pkl'"
      ],
      "outputs": [],
      "execution_count": 10,
      "metadata": {
        "jupyter": {
          "source_hidden": false,
          "outputs_hidden": false
        },
        "nteract": {
          "transient": {
            "deleting": false
          }
        },
        "gather": {
          "logged": 1732580022866
        }
      }
    },
    {
      "cell_type": "code",
      "source": [
        "# # Create BlobServiceClient\n",
        "# connection_string = f\"DefaultEndpointsProtocol=https;AccountName={storage_account_name};AccountKey={storage_account_access_key};EndpointSuffix=core.windows.net\"\n",
        "# blob_service_client = BlobServiceClient.from_connection_string(connection_string)\n",
        "# blob_service_client"
      ],
      "outputs": [],
      "execution_count": 11,
      "metadata": {
        "jupyter": {
          "source_hidden": false,
          "outputs_hidden": false
        },
        "nteract": {
          "transient": {
            "deleting": false
          }
        },
        "gather": {
          "logged": 1732580023052
        }
      }
    },
    {
      "cell_type": "code",
      "source": [
        "# # Get the BlobClient\n",
        "# lr_model = blob_service_client.get_blob_client(container=container_name, blob=blob_name)\n",
        "# lr_model"
      ],
      "outputs": [],
      "execution_count": 12,
      "metadata": {
        "jupyter": {
          "source_hidden": false,
          "outputs_hidden": false
        },
        "nteract": {
          "transient": {
            "deleting": false
          }
        },
        "gather": {
          "logged": 1732580023220
        }
      }
    },
    {
      "cell_type": "code",
      "source": [
        "# scaler = blob_service_client.get_blob_client(container=container_name,blob='scaler.pkl')\n",
        "# scaler"
      ],
      "outputs": [],
      "execution_count": 13,
      "metadata": {
        "jupyter": {
          "source_hidden": false,
          "outputs_hidden": false
        },
        "nteract": {
          "transient": {
            "deleting": false
          }
        },
        "gather": {
          "logged": 1732580023389
        }
      }
    },
    {
      "cell_type": "code",
      "source": [
        "# ml_pipeline = blob_service_client.get_blob_client(container=container_name,blob='ml_pipeline')\n",
        "# ml_pipeline"
      ],
      "outputs": [],
      "execution_count": 14,
      "metadata": {
        "jupyter": {
          "source_hidden": false,
          "outputs_hidden": false
        },
        "nteract": {
          "transient": {
            "deleting": false
          }
        },
        "gather": {
          "logged": 1732580023578
        }
      }
    },
    {
      "cell_type": "code",
      "source": [
        "# local_pipeline_path = \"lr_pipeline\"\n",
        "\n",
        "# with open(local_pipeline_path, \"wb\") as file:\n",
        "#     file.write(ml_pipeline.download_blob().readall())"
      ],
      "outputs": [],
      "execution_count": 15,
      "metadata": {
        "jupyter": {
          "source_hidden": false,
          "outputs_hidden": false
        },
        "nteract": {
          "transient": {
            "deleting": false
          }
        },
        "gather": {
          "logged": 1732580023885
        }
      }
    },
    {
      "cell_type": "code",
      "source": [
        "# local_model_path = \"model.pkl\"\n",
        "# with open(local_model_path, \"wb\") as file:\n",
        "#     file.write(lr_model.download_blob().readall())"
      ],
      "outputs": [],
      "execution_count": 16,
      "metadata": {
        "jupyter": {
          "source_hidden": false,
          "outputs_hidden": false
        },
        "nteract": {
          "transient": {
            "deleting": false
          }
        },
        "gather": {
          "logged": 1732580024071
        }
      }
    },
    {
      "cell_type": "code",
      "source": [
        "# local_scaler_path = \"scaler.pkl\"\n",
        "# with open(local_scaler_path, \"wb\") as file:\n",
        "#     file.write(scaler.download_blob().readall())"
      ],
      "outputs": [],
      "execution_count": 17,
      "metadata": {
        "jupyter": {
          "source_hidden": false,
          "outputs_hidden": false
        },
        "nteract": {
          "transient": {
            "deleting": false
          }
        },
        "gather": {
          "logged": 1732580024248
        }
      }
    },
    {
      "cell_type": "code",
      "source": [
        "app = Flask(__name__)\n",
        "app"
      ],
      "outputs": [
        {
          "output_type": "execute_result",
          "execution_count": 18,
          "data": {
            "text/plain": "<Flask '__main__'>"
          },
          "metadata": {}
        }
      ],
      "execution_count": 18,
      "metadata": {
        "jupyter": {
          "source_hidden": false,
          "outputs_hidden": false
        },
        "nteract": {
          "transient": {
            "deleting": false
          }
        },
        "gather": {
          "logged": 1732580024454
        }
      }
    },
    {
      "cell_type": "code",
      "source": [
        "@app.route(\"/predict\",methods=['POST'])\n",
        "def predict():\n",
        "    if request.method == 'POST':\n",
        "        input_data = request.json\n",
        "        input_df = spark.createDataFrame(input_data['data'])\n",
        "        predictions = model.transform(input_df)\n",
        "        prediction_values = predictions.select('prediction').rdd.flatMap(lambda x: x).collect()\n",
        "        return jsonify({'predictions': prediction_values})"
      ],
      "outputs": [],
      "execution_count": 19,
      "metadata": {
        "jupyter": {
          "source_hidden": false,
          "outputs_hidden": false
        },
        "nteract": {
          "transient": {
            "deleting": false
          }
        },
        "gather": {
          "logged": 1732580024668
        }
      }
    },
    {
      "cell_type": "code",
      "source": [
        "\n",
        "if __name__ == '__main__':\n",
        "    app.run(host='0.0.0.0',port=5000)"
      ],
      "outputs": [
        {
          "output_type": "stream",
          "name": "stderr",
          "text": "WARNING: This is a development server. Do not use it in a production deployment. Use a production WSGI server instead.\n * Running on all addresses (0.0.0.0)\n * Running on http://127.0.0.1:5000\n * Running on http://10.0.0.4:5000\nPress CTRL+C to quit\n127.0.0.1 - - [26/Nov/2024 00:18:14] \"POST /predict HTTP/1.1\" 200 -             \n"
        }
      ],
      "execution_count": 22,
      "metadata": {
        "jupyter": {
          "source_hidden": false,
          "outputs_hidden": false
        },
        "nteract": {
          "transient": {
            "deleting": false
          }
        },
        "gather": {
          "logged": 1732580281909
        }
      }
    }
  ],
  "metadata": {
    "kernelspec": {
      "name": "python310-sdkv2",
      "language": "python",
      "display_name": "Python 3.10 - SDK v2"
    },
    "language_info": {
      "name": "python",
      "version": "3.10.14",
      "mimetype": "text/x-python",
      "codemirror_mode": {
        "name": "ipython",
        "version": 3
      },
      "pygments_lexer": "ipython3",
      "nbconvert_exporter": "python",
      "file_extension": ".py"
    },
    "microsoft": {
      "ms_spell_check": {
        "ms_spell_check_language": "en"
      },
      "host": {
        "AzureML": {
          "notebookHasBeenCompleted": true
        }
      }
    },
    "kernel_info": {
      "name": "python310-sdkv2"
    },
    "nteract": {
      "version": "nteract-front-end@1.0.0"
    }
  },
  "nbformat": 4,
  "nbformat_minor": 2
}